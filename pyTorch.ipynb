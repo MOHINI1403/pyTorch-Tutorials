{
  "nbformat": 4,
  "nbformat_minor": 0,
  "metadata": {
    "colab": {
      "provenance": [],
      "gpuType": "T4",
      "authorship_tag": "ABX9TyNvicFgqawh5akqBYe1DzmP",
      "include_colab_link": true
    },
    "kernelspec": {
      "name": "python3",
      "display_name": "Python 3"
    },
    "language_info": {
      "name": "python"
    },
    "accelerator": "GPU"
  },
  "cells": [
    {
      "cell_type": "markdown",
      "metadata": {
        "id": "view-in-github",
        "colab_type": "text"
      },
      "source": [
        "<a href=\"https://colab.research.google.com/github/MOHINI1403/pyTorch-Tutorials/blob/main/pyTorch.ipynb\" target=\"_parent\"><img src=\"https://colab.research.google.com/assets/colab-badge.svg\" alt=\"Open In Colab\"/></a>"
      ]
    },
    {
      "cell_type": "code",
      "execution_count": 1,
      "metadata": {
        "id": "_OXWaooccErS"
      },
      "outputs": [],
      "source": [
        "import torch\n",
        "'''\n",
        "A neural network is a computational model inspired by the\n",
        "structure and functioning of the human brain .\n",
        "\n",
        "Neural Networks contain interconnected nodes,commonly referred as neurons or\n",
        "as neurons or artificial neurons ,organised in layers.\n",
        "Neural networks are organised into layers.There are three main types of layers\n",
        "Input Layer:\n",
        "Hidden Layer:here computation takes place\n",
        "Output Layer:\n",
        "\n",
        "Each connection between neurons has associated weight, which determines the\n",
        "strength of the connection.Additionaly each neuron typically has a bias term\n",
        "that allows the network to learn patterens more flexibly\n",
        "\n",
        "Activation Function: apllied to the weighted sum of inputs in each neuron.It\n",
        "intorduces non linearity to the model\n",
        "\n",
        "\n",
        "Hidden layers in the neural networks act as a powerful feature extraction and\n",
        "information encoders.Their ability to capture heirarichal and non-linear\n",
        "relationships makes the neural networks well suited for learning complex patterns\n",
        "in various types of data.\n",
        "\n",
        "'''"
      ]
    },
    {
      "cell_type": "code",
      "source": [
        "!pip list\n"
      ],
      "metadata": {
        "id": "WRjm7-yZhWgO"
      },
      "execution_count": null,
      "outputs": []
    },
    {
      "cell_type": "code",
      "source": [],
      "metadata": {
        "id": "uTxWc4RUhg_n"
      },
      "execution_count": null,
      "outputs": []
    }
  ]
}